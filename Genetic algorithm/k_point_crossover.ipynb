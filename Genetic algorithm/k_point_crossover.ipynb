{
 "cells": [
  {
   "cell_type": "code",
   "execution_count": 133,
   "metadata": {},
   "outputs": [],
   "source": [
    "import numpy as np\n",
    "\n",
    "def single_point_crossover(a: np.ndarray, b: np.ndarray, point: int) -> tuple[np.ndarray, np.ndarray]:\n",
    "\n",
    "    a_child = np.append(a[:point+1], b[point+1:])\n",
    "    b_child = np.append(b[:point+1], a[point+1:])\n",
    "    \n",
    "    return (a_child, b_child)\n",
    "\n",
    "\n",
    "def two_point_crossover(a: np.ndarray, b: np.ndarray, first: int, second: int) -> tuple[np.ndarray, np.ndarray]:\n",
    "\n",
    "    a_child = np.append(np.append(a[:first+1], b[first+1:second]), a[second:])\n",
    "    b_child = np.append(np.append(b[:first+1], a[first+1:second]), b[second:])\n",
    "        \n",
    "    return(a_child, b_child)\n",
    "\n",
    "\n",
    "def k_point_crossover(a: np.ndarray, b: np.ndarray, points: np.ndarray) -> tuple[np.ndarray, np.ndarray]:\n",
    "     \n",
    "    a_child = np.array([], dtype=int)\n",
    "    b_child = np.array([], dtype=int)\n",
    "    \n",
    "    points[0] += 1\n",
    "    points[-1] += 1\n",
    "    \n",
    "    a_split = np.split(a, points)\n",
    "    b_split = np.split(b, points)\n",
    "      \n",
    "    for i, val in enumerate(zip(a_split, b_split)):\n",
    "        a_child = np.append(a_child, val[i%2])\n",
    "        b_child = np.append(b_child, val[~i%2])\n",
    "    \n",
    "    return(a_child, b_child)   \n",
    "    \n",
    "            \n"
   ]
  },
  {
   "cell_type": "code",
   "execution_count": 134,
   "metadata": {},
   "outputs": [
    {
     "name": "stdout",
     "output_type": "stream",
     "text": [
      "0 1 2 3 4 4 3 2 1 0\n",
      "9 8 7 6 5 5 6 7 8 9\n",
      "\n",
      "0 1 2 6 5 4 3 7 8 9\n",
      "9 8 7 3 4 5 6 2 1 0\n",
      "\n",
      "0 1 7 6 5 5 6 7 8 0\n",
      "9 8 2 3 4 4 3 2 1 9\n",
      "\n"
     ]
    }
   ],
   "source": [
    "a = np.array([0, 1, 2, 3, 4, 5, 6, 7, 8, 9])\n",
    "b = np.array([9, 8, 7, 6, 5, 4, 3, 2, 1, 0])\n",
    "prep = lambda x: ' '.join(map(str, x))\n",
    "print(*map(prep, single_point_crossover(a, b, 4)), '', sep='\\n')\n",
    "print(*map(prep, two_point_crossover(a, b, 2, 7)), '', sep='\\n')\n",
    "#k_point_crossover( a, b, np.array([1, 5, 8]) )\n",
    "print(*map(prep, k_point_crossover(a, b, np.array([1, 5, 8]))), '', sep='\\n')\n",
    "            "
   ]
  },
  {
   "cell_type": "code",
   "execution_count": null,
   "metadata": {},
   "outputs": [],
   "source": []
  }
 ],
 "metadata": {
  "kernelspec": {
   "display_name": "Methods_Machine_learning",
   "language": "python",
   "name": "python3"
  },
  "language_info": {
   "codemirror_mode": {
    "name": "ipython",
    "version": 3
   },
   "file_extension": ".py",
   "mimetype": "text/x-python",
   "name": "python",
   "nbconvert_exporter": "python",
   "pygments_lexer": "ipython3",
   "version": "3.10.11"
  },
  "orig_nbformat": 4
 },
 "nbformat": 4,
 "nbformat_minor": 2
}
