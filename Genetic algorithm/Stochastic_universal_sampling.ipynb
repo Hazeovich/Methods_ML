{
 "cells": [
  {
   "cell_type": "code",
   "execution_count": 58,
   "metadata": {},
   "outputs": [],
   "source": [
    "import numpy as np\n",
    "\n",
    "def sus(fitness: np.ndarray, n: int, start: float) -> list:\n",
    "        \n",
    "    total_fitness = np.sum(fitness)\n",
    "    dist = total_fitness/n\n",
    "    pointers = [start + i*dist for i in range(n)]\n",
    "        \n",
    "    keep = list()\n",
    "    \n",
    "    for p in pointers:\n",
    "        i = 1\n",
    "        while np.sum(fitness[0:i]) < p:\n",
    "            i += 1\n",
    "        keep.append(i-1)\n",
    "    return keep"
   ]
  },
  {
   "cell_type": "code",
   "execution_count": 59,
   "metadata": {},
   "outputs": [
    {
     "name": "stdout",
     "output_type": "stream",
     "text": [
      "10 4 1\n"
     ]
    }
   ],
   "source": [
    "fitness = np.array([10, 4, 3, 2, 1])\n",
    "print(*fitness[sus(fitness, 3, 6)])"
   ]
  },
  {
   "cell_type": "code",
   "execution_count": 68,
   "metadata": {},
   "outputs": [],
   "source": [
    "import numpy as np\n",
    "\n",
    "def sus(fitness: np.ndarray, n: int, start: float) -> list:\n",
    "        \n",
    "    total_fitness = np.sum(fitness)\n",
    "    dist = total_fitness/n\n",
    "    pointers = [start + i*dist for i in range(n)]\n",
    "    fit_sums = [np.sum(fitness[:i]) for i in range(1, len(fitness)+1)]\n",
    "        \n",
    "    keep = list()\n",
    "\n",
    "    search_idx = 0\n",
    "    for p in pointers:\n",
    "        i = search_idx\n",
    "        while fit_sums[i] < p:\n",
    "            i += 1\n",
    "        keep.append(i)\n",
    "        search_idx = i\n",
    "            \n",
    "    return keep"
   ]
  },
  {
   "cell_type": "code",
   "execution_count": 69,
   "metadata": {},
   "outputs": [
    {
     "name": "stdout",
     "output_type": "stream",
     "text": [
      "[10  4  3  2  1] [10, 14, 17, 19, 20]\n",
      "10 4 1\n"
     ]
    }
   ],
   "source": [
    "fitness = np.array([10, 4, 3, 2, 1])\n",
    "print(*fitness[sus(fitness, 3, 6)])"
   ]
  },
  {
   "cell_type": "code",
   "execution_count": null,
   "metadata": {},
   "outputs": [],
   "source": []
  }
 ],
 "metadata": {
  "kernelspec": {
   "display_name": "Methods_Machine_learning",
   "language": "python",
   "name": "python3"
  },
  "language_info": {
   "codemirror_mode": {
    "name": "ipython",
    "version": 3
   },
   "file_extension": ".py",
   "mimetype": "text/x-python",
   "name": "python",
   "nbconvert_exporter": "python",
   "pygments_lexer": "ipython3",
   "version": "3.10.11"
  },
  "orig_nbformat": 4
 },
 "nbformat": 4,
 "nbformat_minor": 2
}
