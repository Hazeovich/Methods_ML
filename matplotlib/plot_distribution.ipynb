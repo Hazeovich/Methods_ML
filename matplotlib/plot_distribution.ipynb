{
 "cells": [
  {
   "cell_type": "code",
   "execution_count": null,
   "metadata": {},
   "outputs": [],
   "source": [
    "import pandas as pd\n",
    "from typing import Union\n",
    "\n",
    "def draw_pdf(data: pd.DataFrame, column: str, bins: Union[int, str] = 10) -> None:\n",
    "    \"\"\"\n",
    "        Отображает оценку плотности распределения столбца данных\n",
    "\n",
    "        Параметры:\n",
    "            data: таблица данных.\n",
    "            column: название столбца для отображения.\n",
    "            bins: спецификация интервалов разбиения, аналогично matplotlib.pyplot.hist.\n",
    "    \"\"\"\n",
    "    pass"
   ]
  }
 ],
 "metadata": {
  "language_info": {
   "name": "python"
  },
  "orig_nbformat": 4
 },
 "nbformat": 4,
 "nbformat_minor": 2
}
