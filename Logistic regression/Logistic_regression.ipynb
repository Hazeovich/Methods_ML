{
 "cells": [
  {
   "cell_type": "code",
   "execution_count": 84,
   "metadata": {},
   "outputs": [],
   "source": [
    "import numpy as np\n",
    "\n",
    "X = np.array([[1,2],[3,4],[4,5]])\n",
    "theta = np.array([5, 6])\n",
    "y = np.array([1, 2, 1])\n",
    "\n",
    "def logistic_func(theta: np.ndarray, x: np.ndarray) -> float:    \n",
    "    sigmoid = lambda x: 1/(1+np.exp(-x))\n",
    "    return sigmoid(x @ theta)\n",
    "\n",
    "def logistic_func_all(theta: np.ndarray, X: np.ndarray) -> np.ndarray:\n",
    "    return logistic_func(theta=theta, x=X)\n",
    "    \n",
    "def cross_entropy_loss(theta: np.ndarray, X: np.ndarray, y: np.ndarray) -> float:\n",
    "    return np.log(1 + np.exp(-y * (X @ theta)), dtype=float).mean()\n",
    "    \n",
    "def grad_cross_entropy_loss(theta: np.ndarray, X: np.ndarray, y: np.ndarray) -> np.ndarray:\n",
    "    sigmoid = lambda x: 1/(1+np.exp(-x))\n",
    "    return (-y * X.T * sigmoid(-y * (X @ theta))).T.mean(axis=0)"
   ]
  },
  {
   "cell_type": "code",
   "execution_count": 85,
   "metadata": {},
   "outputs": [
    {
     "data": {
      "text/plain": [
       "1.3799792134237091e-08"
      ]
     },
     "execution_count": 85,
     "metadata": {},
     "output_type": "execute_result"
    }
   ],
   "source": [
    "cross_entropy_loss(theta, X, y)"
   ]
  },
  {
   "cell_type": "code",
   "execution_count": 86,
   "metadata": {},
   "outputs": [
    {
     "data": {
      "text/plain": [
       "array([-1.42953957e-23, -1.22910189e-38])"
      ]
     },
     "execution_count": 86,
     "metadata": {},
     "output_type": "execute_result"
    }
   ],
   "source": [
    "grad_cross_entropy_loss(theta, X, y)"
   ]
  },
  {
   "cell_type": "code",
   "execution_count": 87,
   "metadata": {},
   "outputs": [],
   "source": [
    "sigmoid = lambda x: 1/(1+np.exp(-x))"
   ]
  },
  {
   "cell_type": "code",
   "execution_count": 117,
   "metadata": {},
   "outputs": [
    {
     "data": {
      "text/plain": [
       "array([[4.13993755e-08, 8.00168889e-34, 7.71499939e-22],\n",
       "       [8.27987509e-08, 1.06689185e-33, 9.64374924e-22]])"
      ]
     },
     "execution_count": 117,
     "metadata": {},
     "output_type": "execute_result"
    }
   ],
   "source": [
    "(y * X.T * sigmoid(-y * (X @ theta)))"
   ]
  },
  {
   "cell_type": "code",
   "execution_count": 126,
   "metadata": {},
   "outputs": [
    {
     "data": {
      "text/plain": [
       "array([-1.37997918e-08, -2.75995836e-08])"
      ]
     },
     "execution_count": 126,
     "metadata": {},
     "output_type": "execute_result"
    }
   ],
   "source": [
    "(-y * X.T * sigmoid(-y * (X @ theta))).T.mean(axis=0)"
   ]
  },
  {
   "cell_type": "code",
   "execution_count": null,
   "metadata": {},
   "outputs": [],
   "source": []
  }
 ],
 "metadata": {
  "kernelspec": {
   "display_name": "Methods_Machine_learning",
   "language": "python",
   "name": "python3"
  },
  "language_info": {
   "codemirror_mode": {
    "name": "ipython",
    "version": 3
   },
   "file_extension": ".py",
   "mimetype": "text/x-python",
   "name": "python",
   "nbconvert_exporter": "python",
   "pygments_lexer": "ipython3",
   "version": "3.10.10"
  },
  "orig_nbformat": 4
 },
 "nbformat": 4,
 "nbformat_minor": 2
}
