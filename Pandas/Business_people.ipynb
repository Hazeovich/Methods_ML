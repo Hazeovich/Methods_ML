{
 "cells": [
  {
   "cell_type": "code",
   "execution_count": null,
   "metadata": {},
   "outputs": [],
   "source": [
    "import pandas as pd\n",
    "\n",
    "def get_businessmen(df: pd.DataFrame) -> pd.DataFrame:\n",
    "    \"\"\"\n",
    "    Возвращает DataFrame, оставляя в нём только пользователей из df,\n",
    "    совершивших 20 и более международных звонков\n",
    "\n",
    "    Параметры:\n",
    "      df: исходный DataFrame\n",
    "\n",
    "    Возвращаемое значение:\n",
    "      отфильтрованный DataFrame\n",
    "    \"\"\"\n",
    "    return df[df['Total intl calls'] >= 20]"
   ]
  },
  {
   "cell_type": "code",
   "execution_count": null,
   "metadata": {},
   "outputs": [],
   "source": [
    "df = pd.read_csv('data.csv')\n",
    "businessmen = get_businessmen(df)"
   ]
  },
  {
   "cell_type": "code",
   "execution_count": null,
   "metadata": {},
   "outputs": [],
   "source": []
  }
 ],
 "metadata": {
  "language_info": {
   "name": "python"
  },
  "orig_nbformat": 4
 },
 "nbformat": 4,
 "nbformat_minor": 2
}
