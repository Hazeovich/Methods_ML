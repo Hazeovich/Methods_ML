{
 "cells": [
  {
   "cell_type": "code",
   "execution_count": 7,
   "metadata": {},
   "outputs": [],
   "source": [
    "import numpy as np\n",
    "\n",
    "class Oracle:\n",
    "    def value(self, x: np.ndarray) -> float:\n",
    "        pass\n",
    "        \n",
    "    def gradient(self, x: np.ndarray) -> np.ndarray:\n",
    "        pass\n",
    "    \n",
    "class GDM:\n",
    "    eta: float\n",
    "    alpha: float\n",
    "\n",
    "    def __init__(self, *, alpha: float = 0.9, eta: float = 0.1):\n",
    "        self.alpha = alpha\n",
    "        self.eta = eta\n",
    "\n",
    "    def optimize(self, oracle: Oracle, x0: np.ndarray, *,\n",
    "                 max_iter: int = 100, eps: float = 1e-5) -> np.ndarray:\n",
    "        \n",
    "        coeffs = np.copy(x0)\n",
    "        v = np.zeros(len(x0))\n",
    "        \n",
    "        for _ in range(max_iter):\n",
    "            grad = oracle.gradient(coeffs) #gradient\n",
    "            if eps < np.linalg.norm(grad):  #L2-norm\n",
    "                v = self.alpha * v + self.eta * grad\n",
    "                coeffs = coeffs - v\n",
    "            else:\n",
    "                break\n",
    "            \n",
    "        return coeffs"
   ]
  },
  {
   "cell_type": "code",
   "execution_count": 8,
   "metadata": {},
   "outputs": [
    {
     "data": {
      "text/plain": [
       "array([-90.00023905, -89.00023905, -88.00023905])"
      ]
     },
     "execution_count": 8,
     "metadata": {},
     "output_type": "execute_result"
    }
   ],
   "source": [
    "a = GDM()\n",
    "o = Oracle()\n",
    "x = np.array([1,2,3])\n",
    "a.optimize(o, x)"
   ]
  },
  {
   "cell_type": "code",
   "execution_count": null,
   "metadata": {},
   "outputs": [],
   "source": []
  }
 ],
 "metadata": {
  "kernelspec": {
   "display_name": "Methods_Machine_learning",
   "language": "python",
   "name": "python3"
  },
  "language_info": {
   "codemirror_mode": {
    "name": "ipython",
    "version": 3
   },
   "file_extension": ".py",
   "mimetype": "text/x-python",
   "name": "python",
   "nbconvert_exporter": "python",
   "pygments_lexer": "ipython3",
   "version": "3.10.11"
  },
  "orig_nbformat": 4
 },
 "nbformat": 4,
 "nbformat_minor": 2
}
