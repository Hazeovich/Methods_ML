{
 "cells": [
  {
   "cell_type": "code",
   "execution_count": null,
   "metadata": {},
   "outputs": [],
   "source": [
    "import numpy as np\n",
    "\n",
    "class Oracle:\n",
    "    def value(self, x: np.ndarray) -> float:\n",
    "        pass\n",
    "        \n",
    "    def gradient(self, x: np.ndarray) -> np.ndarray:\n",
    "        pass\n",
    "\n",
    "class NesterovAG:\n",
    "    eta: float\n",
    "    alpha: float\n",
    "\n",
    "    def __init__(self, *, alpha: float = 0.9, eta: float = 0.1):\n",
    "        self.alpha = alpha\n",
    "        self.eta = eta\n",
    "\n",
    "    def optimize(self, oracle: Oracle, x0: np.ndarray, *,\n",
    "                 max_iter: int = 100, eps: float = 1e-5) -> np.ndarray:\n",
    "        \n",
    "        coeffs = np.copy(x0)\n",
    "        v = np.zeros(len(x0))\n",
    "        \n",
    "        for _ in range(max_iter):\n",
    "            grad = oracle.gradient(coeffs - self.alpha * v) #gradient\n",
    "            if eps < np.linalg.norm(grad):  #L2-norm\n",
    "                v = self.alpha * v + self.eta * grad\n",
    "                coeffs = coeffs - v\n",
    "            else:\n",
    "                break\n",
    "            \n",
    "        return coeffs"
   ]
  }
 ],
 "metadata": {
  "language_info": {
   "name": "python"
  },
  "orig_nbformat": 4
 },
 "nbformat": 4,
 "nbformat_minor": 2
}
