{
 "cells": [
  {
   "cell_type": "code",
   "execution_count": null,
   "metadata": {},
   "outputs": [],
   "source": [
    "import numpy as np\n",
    "\n",
    "class Oracle:\n",
    "    pass\n",
    "\n",
    "class GradientOptimizer:\n",
    "    def __init__(self, oracle, x0):\n",
    "        self.oracle = oracle\n",
    "        self.x0 = x0\n",
    "\n",
    "    def optimize(self, iterations, eps, alpha):\n",
    "        \n",
    "        for t in range(1, iterations+1):\n",
    "            grad = self.oracle.get_grad(self.x0) #gradient\n",
    "            if eps < np.linalg.norm(grad):  #L2-norm\n",
    "                self.x0 = self.x0 - alpha * grad\n",
    "            else:\n",
    "                break\n",
    "            \n",
    "        return self.x0"
   ]
  },
  {
   "cell_type": "code",
   "execution_count": null,
   "metadata": {},
   "outputs": [],
   "source": [
    "class Oracle:\n",
    "    def get_func(self, x): pass\n",
    "    def get_grad(self, x): pass\n"
   ]
  }
 ],
 "metadata": {
  "language_info": {
   "name": "python"
  },
  "orig_nbformat": 4
 },
 "nbformat": 4,
 "nbformat_minor": 2
}
