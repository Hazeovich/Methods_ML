{
 "cells": [
  {
   "cell_type": "code",
   "execution_count": 24,
   "metadata": {},
   "outputs": [],
   "source": [
    "import numpy as np\n",
    "\n",
    "class Oracle:\n",
    "    def value(self, x: np.ndarray) -> float:\n",
    "        pass\n",
    "        \n",
    "    def gradient(self, x: np.ndarray) -> np.ndarray:\n",
    "        pass\n",
    "    \n",
    "class AdaGrad:\n",
    "    \n",
    "    eta: float\n",
    "    epsilon: float\n",
    "\n",
    "    def __init__(self, *, eta: float = 0.1, epsilon: float = 1e-8):\n",
    "        self.eta = eta\n",
    "        self.epsilon = epsilon\n",
    "\n",
    "    def optimize(self, oracle: Oracle, x0: np.ndarray, *,\n",
    "                 max_iter: int = 100, eps: float = 1e-5) -> np.ndarray:\n",
    "        \n",
    "        coeffs = np.copy(x0)\n",
    "        G = np.zeros(len(x0))\n",
    "        \n",
    "        for _ in range(max_iter):\n",
    "            grad = oracle.gradient(coeffs) #gradient\n",
    "            G += np.power(grad,2)\n",
    "                \n",
    "            if eps < np.linalg.norm(grad):  #L2-norm\n",
    "                coeffs = coeffs - self.eta / ( np.sqrt(G + self.epsilon)) * grad\n",
    "            else:\n",
    "                break\n",
    "            \n",
    "        return coeffs"
   ]
  },
  {
   "cell_type": "code",
   "execution_count": null,
   "metadata": {},
   "outputs": [],
   "source": []
  }
 ],
 "metadata": {
  "kernelspec": {
   "display_name": "Methods_Machine_learning",
   "language": "python",
   "name": "python3"
  },
  "language_info": {
   "codemirror_mode": {
    "name": "ipython",
    "version": 3
   },
   "file_extension": ".py",
   "mimetype": "text/x-python",
   "name": "python",
   "nbconvert_exporter": "python",
   "pygments_lexer": "ipython3",
   "version": "3.10.11"
  },
  "orig_nbformat": 4
 },
 "nbformat": 4,
 "nbformat_minor": 2
}
