{
 "cells": [
  {
   "cell_type": "code",
   "execution_count": 73,
   "metadata": {},
   "outputs": [],
   "source": [
    "import numpy as np\n",
    "\n",
    "X = np.array([[1,2],[3,4],[4,5]])\n",
    "theta = np.array([5, 6])\n",
    "y = np.array([1, 2, 1])"
   ]
  },
  {
   "cell_type": "code",
   "execution_count": 123,
   "metadata": {},
   "outputs": [],
   "source": [
    "def linear_func(theta, x):\n",
    "    shape = len(x.shape)\n",
    "    if shape == 1:\n",
    "        return (x*theta).sum(axis=0)\n",
    "    else:\n",
    "        return (x*theta).sum(axis=1)\n",
    "\n",
    "def linear_func_all(theta, X):\n",
    "    return linear_func(theta, X)\n",
    "\n",
    "def mean_squared_error(theta, X, y):\n",
    "    M = len(X)\n",
    "    return 1/M * ((y - linear_func_all(theta, X))**2).sum()\n",
    "\n",
    "def grad_mean_squared_error(theta, X, y):\n",
    "    h = linear_func_all(theta, X)\n",
    "    M = len(X)\n",
    "    const = 2/M * (y - h)\n",
    "    X_trans = -X.transpose()\n",
    "    return (const * X_trans).sum(axis=1)"
   ]
  },
  {
   "cell_type": "code",
   "execution_count": 124,
   "metadata": {},
   "outputs": [
    {
     "data": {
      "text/plain": [
       "array([17, 39, 50])"
      ]
     },
     "execution_count": 124,
     "metadata": {},
     "output_type": "execute_result"
    }
   ],
   "source": [
    "linear_func(theta, X)"
   ]
  },
  {
   "cell_type": "code",
   "execution_count": 125,
   "metadata": {},
   "outputs": [
    {
     "data": {
      "text/plain": [
       "array([17, 39, 50])"
      ]
     },
     "execution_count": 125,
     "metadata": {},
     "output_type": "execute_result"
    }
   ],
   "source": [
    "linear_func_all(theta, X)"
   ]
  },
  {
   "cell_type": "code",
   "execution_count": 126,
   "metadata": {},
   "outputs": [
    {
     "data": {
      "text/plain": [
       "1342.0"
      ]
     },
     "execution_count": 126,
     "metadata": {},
     "output_type": "execute_result"
    }
   ],
   "source": [
    "mean_squared_error(theta, X, y)"
   ]
  },
  {
   "cell_type": "code",
   "execution_count": 127,
   "metadata": {},
   "outputs": [
    {
     "data": {
      "text/plain": [
       "array([215.33333333, 283.33333333])"
      ]
     },
     "execution_count": 127,
     "metadata": {},
     "output_type": "execute_result"
    }
   ],
   "source": [
    "grad_mean_squared_error(theta, X, y)"
   ]
  },
  {
   "cell_type": "code",
   "execution_count": null,
   "metadata": {},
   "outputs": [],
   "source": []
  }
 ],
 "metadata": {
  "kernelspec": {
   "display_name": "MethodsML",
   "language": "python",
   "name": "python3"
  },
  "language_info": {
   "codemirror_mode": {
    "name": "ipython",
    "version": 3
   },
   "file_extension": ".py",
   "mimetype": "text/x-python",
   "name": "python",
   "nbconvert_exporter": "python",
   "pygments_lexer": "ipython3",
   "version": "3.11.2"
  },
  "orig_nbformat": 4,
  "vscode": {
   "interpreter": {
    "hash": "0d1dfcdad4cdc411419295dedcaeee09d159a6944d0aee15ad29fdad7fa8751a"
   }
  }
 },
 "nbformat": 4,
 "nbformat_minor": 2
}
