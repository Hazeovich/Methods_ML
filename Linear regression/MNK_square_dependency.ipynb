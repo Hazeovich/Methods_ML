{
 "cells": [
  {
   "cell_type": "code",
   "execution_count": 10,
   "metadata": {},
   "outputs": [],
   "source": [
    "import numpy as np"
   ]
  },
  {
   "cell_type": "code",
   "execution_count": 43,
   "metadata": {},
   "outputs": [],
   "source": [
    "def fit_linear_regression(X, y):\n",
    "    theta = np.linalg.inv(X.T @ X) @ X.T @ y\n",
    "    return theta\n",
    "\n",
    "input_file = open('input.txt', 'r').readlines()\n",
    "N = int(input_file[0].removesuffix('\\n'))\n",
    "data = [x.removesuffix('\\n') for x in input_file[1:]]\n",
    "X = np.array([float(x.split()[0]) for x in data])\n",
    "Y = np.array([float(y.split()[1]) for y in data])\n",
    "\n",
    "X_hitroe = np.array([X**2, X, X**0]).T\n",
    "\n",
    "ans = fit_linear_regression(X_hitroe, Y)\n",
    "output_file = open('output.txt', 'w')\n",
    "print(*ans, file=output_file)\n"
   ]
  }
 ],
 "metadata": {
  "kernelspec": {
   "display_name": "Methods_Machine_learning",
   "language": "python",
   "name": "python3"
  },
  "language_info": {
   "codemirror_mode": {
    "name": "ipython",
    "version": 3
   },
   "file_extension": ".py",
   "mimetype": "text/x-python",
   "name": "python",
   "nbconvert_exporter": "python",
   "pygments_lexer": "ipython3",
   "version": "3.10.10"
  },
  "orig_nbformat": 4
 },
 "nbformat": 4,
 "nbformat_minor": 2
}
